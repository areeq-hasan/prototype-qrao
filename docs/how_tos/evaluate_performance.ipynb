{
 "cells": [
  {
   "cell_type": "code",
   "execution_count": 1,
   "metadata": {},
   "outputs": [],
   "source": [
    "import numpy as np\n",
    "\n",
    "import matplotlib.pyplot as plt\n",
    "from tqdm.notebook import tqdm\n",
    "\n",
    "from qiskit.algorithms.minimum_eigen_solvers import NumPyMinimumEigensolver\n",
    "from qiskit_optimization.algorithms import CplexOptimizer\n",
    "\n",
    "from qrao.multiqubit import encode_problem\n",
    "from qrao.multiqubit.find_optimal_configuration import find_optimal_configuration\n",
    "\n",
    "from qrao.utils import get_random_maxcut_qp"
   ]
  },
  {
   "cell_type": "code",
   "execution_count": 2,
   "metadata": {},
   "outputs": [],
   "source": [
    "exact_optimizer = CplexOptimizer()\n",
    "min_eigen_solver = NumPyMinimumEigensolver()"
   ]
  },
  {
   "cell_type": "code",
   "execution_count": 20,
   "metadata": {},
   "outputs": [],
   "source": [
    "def compute_approximation_ratio(num_nodes, degree=3, max_qubits_per_partition=2, max_variables_per_partition=3):\n",
    "    problem = get_random_maxcut_qp(degree=degree, num_nodes=num_nodes)\n",
    "\n",
    "    exact_fval = exact_optimizer.solve(problem).fval\n",
    "\n",
    "    operator, _, variables, _ = encode_problem(\n",
    "        problem, max_qubits_per_partition=max_qubits_per_partition, max_variables_per_partition=max_variables_per_partition\n",
    "    )\n",
    "    optimal_configuration = find_optimal_configuration(\n",
    "        operator, variables, NumPyMinimumEigensolver()\n",
    "    )\n",
    "    approximate_fval = problem.objective.evaluate(optimal_configuration)\n",
    "\n",
    "    approximation_ratio = approximate_fval / exact_fval\n",
    "\n",
    "    return approximation_ratio"
   ]
  },
  {
   "cell_type": "code",
   "execution_count": 31,
   "metadata": {},
   "outputs": [
    {
     "data": {
      "application/vnd.jupyter.widget-view+json": {
       "model_id": "8daf78304857492c90c7958be5187c0f",
       "version_major": 2,
       "version_minor": 0
      },
      "text/plain": [
       "  0%|          | 0/1000 [00:00<?, ?it/s]"
      ]
     },
     "metadata": {},
     "output_type": "display_data"
    },
    {
     "data": {
      "text/plain": [
       "0.7433333333333334"
      ]
     },
     "execution_count": 31,
     "metadata": {},
     "output_type": "execute_result"
    }
   ],
   "source": [
    "np.mean([ compute_approximation_ratio(6, degree=1, max_qubits_per_partition=1, max_variables_per_partition=3) for _ in tqdm(range(1000)) ])"
   ]
  },
  {
   "cell_type": "code",
   "execution_count": 32,
   "metadata": {},
   "outputs": [
    {
     "data": {
      "application/vnd.jupyter.widget-view+json": {
       "model_id": "8e69fa7711584e45a7a8e22a37abf8c4",
       "version_major": 2,
       "version_minor": 0
      },
      "text/plain": [
       "  0%|          | 0/1000 [00:00<?, ?it/s]"
      ]
     },
     "metadata": {},
     "output_type": "display_data"
    },
    {
     "data": {
      "text/plain": [
       "0.494"
      ]
     },
     "execution_count": 32,
     "metadata": {},
     "output_type": "execute_result"
    }
   ],
   "source": [
    "np.mean([ compute_approximation_ratio(6, degree=1, max_qubits_per_partition=2, max_variables_per_partition=3) for _ in tqdm(range(1000)) ])"
   ]
  },
  {
   "cell_type": "code",
   "execution_count": 23,
   "metadata": {},
   "outputs": [
    {
     "data": {
      "application/vnd.jupyter.widget-view+json": {
       "model_id": "b8ad6ade3ce64d1db5ed79a241b085a4",
       "version_major": 2,
       "version_minor": 0
      },
      "text/plain": [
       "  0%|          | 0/100 [00:00<?, ?it/s]"
      ]
     },
     "metadata": {},
     "output_type": "display_data"
    },
    {
     "data": {
      "text/plain": [
       "0.8387499999999999"
      ]
     },
     "execution_count": 23,
     "metadata": {},
     "output_type": "execute_result"
    }
   ],
   "source": [
    "np.mean([ compute_approximation_ratio(8, degree=3, max_qubits_per_partition=1, max_variables_per_partition=3) for _ in tqdm(range(100)) ])"
   ]
  },
  {
   "cell_type": "code",
   "execution_count": 24,
   "metadata": {},
   "outputs": [
    {
     "data": {
      "application/vnd.jupyter.widget-view+json": {
       "model_id": "c0202fd153b24ecaa6ea9ab744b13631",
       "version_major": 2,
       "version_minor": 0
      },
      "text/plain": [
       "  0%|          | 0/100 [00:00<?, ?it/s]"
      ]
     },
     "metadata": {},
     "output_type": "display_data"
    },
    {
     "data": {
      "text/plain": [
       "0.931"
      ]
     },
     "execution_count": 24,
     "metadata": {},
     "output_type": "execute_result"
    }
   ],
   "source": [
    "np.mean([ compute_approximation_ratio(8, degree=3, max_qubits_per_partition=2, max_variables_per_partition=3) for _ in tqdm(range(100)) ])"
   ]
  },
  {
   "cell_type": "code",
   "execution_count": 25,
   "metadata": {},
   "outputs": [
    {
     "data": {
      "application/vnd.jupyter.widget-view+json": {
       "model_id": "7f1379d832d145f39d830d8a6e117b72",
       "version_major": 2,
       "version_minor": 0
      },
      "text/plain": [
       "  0%|          | 0/100 [00:00<?, ?it/s]"
      ]
     },
     "metadata": {},
     "output_type": "display_data"
    },
    {
     "data": {
      "text/plain": [
       "0.8962640692640693"
      ]
     },
     "execution_count": 25,
     "metadata": {},
     "output_type": "execute_result"
    }
   ],
   "source": [
    "np.mean([ compute_approximation_ratio(16, degree=3, max_qubits_per_partition=1, max_variables_per_partition=3) for _ in tqdm(range(100)) ])"
   ]
  },
  {
   "cell_type": "code",
   "execution_count": 26,
   "metadata": {},
   "outputs": [
    {
     "data": {
      "application/vnd.jupyter.widget-view+json": {
       "model_id": "549ab934a5f4418db4f826300641da4d",
       "version_major": 2,
       "version_minor": 0
      },
      "text/plain": [
       "  0%|          | 0/100 [00:00<?, ?it/s]"
      ]
     },
     "metadata": {},
     "output_type": "display_data"
    },
    {
     "data": {
      "text/plain": [
       "0.9346534518113465"
      ]
     },
     "execution_count": 26,
     "metadata": {},
     "output_type": "execute_result"
    }
   ],
   "source": [
    "np.mean([ compute_approximation_ratio(16, degree=3, max_qubits_per_partition=2, max_variables_per_partition=3) for _ in tqdm(range(100)) ])"
   ]
  },
  {
   "cell_type": "code",
   "execution_count": null,
   "metadata": {},
   "outputs": [],
   "source": []
  }
 ],
 "metadata": {
  "kernelspec": {
   "display_name": "Python 3.9.12 ('prototype-qrao')",
   "language": "python",
   "name": "python3"
  },
  "language_info": {
   "codemirror_mode": {
    "name": "ipython",
    "version": 3
   },
   "file_extension": ".py",
   "mimetype": "text/x-python",
   "name": "python",
   "nbconvert_exporter": "python",
   "pygments_lexer": "ipython3",
   "version": "3.9.12"
  },
  "orig_nbformat": 4,
  "vscode": {
   "interpreter": {
    "hash": "091032f753fd8b52e996fc03d6323ff523db19d64607db6acd8c3783811ef968"
   }
  }
 },
 "nbformat": 4,
 "nbformat_minor": 2
}
